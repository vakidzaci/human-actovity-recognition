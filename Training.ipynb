{
 "cells": [
  {
   "cell_type": "code",
   "execution_count": 1,
   "id": "7ca729bb",
   "metadata": {
    "id": "7ca729bb"
   },
   "outputs": [
    {
     "name": "stderr",
     "output_type": "stream",
     "text": [
      "C:\\Users\\00050429\\Anaconda3\\envs\\dl_train\\lib\\site-packages\\tqdm\\auto.py:22: TqdmWarning: IProgress not found. Please update jupyter and ipywidgets. See https://ipywidgets.readthedocs.io/en/stable/user_install.html\n",
      "  from .autonotebook import tqdm as notebook_tqdm\n",
      "C:\\Users\\00050429\\Anaconda3\\envs\\dl_train\\lib\\site-packages\\tqdm\\auto.py:22: TqdmWarning: IProgress not found. Please update jupyter and ipywidgets. See https://ipywidgets.readthedocs.io/en/stable/user_install.html\n",
      "  from .autonotebook import tqdm as notebook_tqdm\n"
     ]
    }
   ],
   "source": [
    "import os\n",
    "import pandas as pd\n",
    "from torch.utils.data import Dataset\n",
    "from torch.utils.data import DataLoader\n",
    "from torchvision import datasets\n",
    "from torchvision.transforms import ToTensor\n",
    "import matplotlib.pyplot as plt\n",
    "import cv2\n",
    "from PIL import Image\n",
    "import torch"
   ]
  },
  {
   "cell_type": "code",
   "execution_count": 3,
   "id": "2abc3e6d",
   "metadata": {
    "colab": {
     "base_uri": "https://localhost:8080/"
    },
    "id": "2abc3e6d",
    "outputId": "8ec82d0c-dd94-488b-e4c5-3009a03cfdc8"
   },
   "outputs": [
    {
     "data": {
      "text/plain": [
       "{'calling': 0,\n",
       " 'clapping': 1,\n",
       " 'cycling': 2,\n",
       " 'dancing': 3,\n",
       " 'drinking': 4,\n",
       " 'eating': 5,\n",
       " 'fighting': 6,\n",
       " 'hugging': 7,\n",
       " 'laughing': 8,\n",
       " 'listening_to_music': 9,\n",
       " 'running': 10,\n",
       " 'sitting': 11,\n",
       " 'sleeping': 12,\n",
       " 'texting': 13,\n",
       " 'using_laptop': 14}"
      ]
     },
     "execution_count": 3,
     "metadata": {},
     "output_type": "execute_result"
    },
    {
     "data": {
      "text/plain": [
       "{'calling': 0,\n",
       " 'clapping': 1,\n",
       " 'cycling': 2,\n",
       " 'dancing': 3,\n",
       " 'drinking': 4,\n",
       " 'eating': 5,\n",
       " 'fighting': 6,\n",
       " 'hugging': 7,\n",
       " 'laughing': 8,\n",
       " 'listening_to_music': 9,\n",
       " 'running': 10,\n",
       " 'sitting': 11,\n",
       " 'sleeping': 12,\n",
       " 'texting': 13,\n",
       " 'using_laptop': 14}"
      ]
     },
     "execution_count": 3,
     "metadata": {},
     "output_type": "execute_result"
    }
   ],
   "source": [
    "import pandas as pd\n",
    "data_df = pd.read_csv('data/Training_set.csv')\n",
    "labels = list(data_df.label.unique())\n",
    "labels.sort()\n",
    "class_labels = {}\n",
    "\n",
    "for i in range(len(labels)):\n",
    "    class_labels[labels[i]] = i\n",
    "class_labels"
   ]
  },
  {
   "cell_type": "code",
   "execution_count": 4,
   "id": "IBvttGnidoCB",
   "metadata": {
    "colab": {
     "base_uri": "https://localhost:8080/"
    },
    "id": "IBvttGnidoCB",
    "outputId": "e1a6033c-1702-4f0c-beac-3882f4367b83"
   },
   "outputs": [
    {
     "data": {
      "text/plain": [
       "15"
      ]
     },
     "execution_count": 4,
     "metadata": {},
     "output_type": "execute_result"
    },
    {
     "data": {
      "text/plain": [
       "15"
      ]
     },
     "execution_count": 4,
     "metadata": {},
     "output_type": "execute_result"
    }
   ],
   "source": [
    "num_classes = len(labels)\n",
    "num_classes"
   ]
  },
  {
   "cell_type": "code",
   "execution_count": 5,
   "id": "78b5bab5",
   "metadata": {
    "id": "78b5bab5"
   },
   "outputs": [],
   "source": [
    "train_csv = data_df.iloc[:11000]\n",
    "val_csv = data_df.iloc[11000:11500]\n",
    "test_csv = data_df.iloc[11500:]"
   ]
  },
  {
   "cell_type": "code",
   "execution_count": 6,
   "id": "2ad4c037",
   "metadata": {
    "colab": {
     "base_uri": "https://localhost:8080/"
    },
    "id": "2ad4c037",
    "outputId": "b630b36a-dc47-4a32-bb75-d6d227852e99"
   },
   "outputs": [
    {
     "data": {
      "text/plain": [
       "sleeping              747\n",
       "laughing              744\n",
       "sitting               742\n",
       "hugging               742\n",
       "dancing               740\n",
       "using_laptop          739\n",
       "clapping              739\n",
       "listening_to_music    736\n",
       "cycling               734\n",
       "drinking              732\n",
       "texting               727\n",
       "eating                725\n",
       "running               724\n",
       "calling               723\n",
       "fighting              706\n",
       "Name: label, dtype: int64"
      ]
     },
     "execution_count": 6,
     "metadata": {},
     "output_type": "execute_result"
    },
    {
     "data": {
      "text/plain": [
       "sleeping              747\n",
       "laughing              744\n",
       "sitting               742\n",
       "hugging               742\n",
       "dancing               740\n",
       "using_laptop          739\n",
       "clapping              739\n",
       "listening_to_music    736\n",
       "cycling               734\n",
       "drinking              732\n",
       "texting               727\n",
       "eating                725\n",
       "running               724\n",
       "calling               723\n",
       "fighting              706\n",
       "Name: label, dtype: int64"
      ]
     },
     "execution_count": 6,
     "metadata": {},
     "output_type": "execute_result"
    }
   ],
   "source": [
    "train_csv.label.value_counts()"
   ]
  },
  {
   "cell_type": "code",
   "execution_count": 7,
   "id": "nWZgApp13Yga",
   "metadata": {
    "colab": {
     "base_uri": "https://localhost:8080/"
    },
    "id": "nWZgApp13Yga",
    "outputId": "67df2fa0-52f7-4f17-aa94-d91a505678e6"
   },
   "outputs": [
    {
     "data": {
      "text/plain": [
       "hugging               41\n",
       "eating                36\n",
       "fighting              36\n",
       "calling               35\n",
       "sleeping              35\n",
       "running               34\n",
       "texting               34\n",
       "dancing               33\n",
       "sitting               33\n",
       "using_laptop          33\n",
       "drinking              32\n",
       "listening_to_music    32\n",
       "cycling               30\n",
       "laughing              28\n",
       "clapping              28\n",
       "Name: label, dtype: int64"
      ]
     },
     "execution_count": 7,
     "metadata": {},
     "output_type": "execute_result"
    },
    {
     "data": {
      "text/plain": [
       "hugging               41\n",
       "eating                36\n",
       "fighting              36\n",
       "calling               35\n",
       "sleeping              35\n",
       "running               34\n",
       "texting               34\n",
       "dancing               33\n",
       "sitting               33\n",
       "using_laptop          33\n",
       "drinking              32\n",
       "listening_to_music    32\n",
       "cycling               30\n",
       "laughing              28\n",
       "clapping              28\n",
       "Name: label, dtype: int64"
      ]
     },
     "execution_count": 7,
     "metadata": {},
     "output_type": "execute_result"
    }
   ],
   "source": [
    "val_csv.label.value_counts()"
   ]
  },
  {
   "cell_type": "code",
   "execution_count": 8,
   "id": "c83c7445",
   "metadata": {
    "colab": {
     "base_uri": "https://localhost:8080/"
    },
    "id": "c83c7445",
    "outputId": "bc22230f-129b-4245-aac8-ebe98c2c47dc"
   },
   "outputs": [
    {
     "data": {
      "text/plain": [
       "fighting              98\n",
       "running               82\n",
       "calling               82\n",
       "texting               79\n",
       "eating                79\n",
       "drinking              76\n",
       "cycling               76\n",
       "clapping              73\n",
       "listening_to_music    72\n",
       "using_laptop          68\n",
       "laughing              68\n",
       "dancing               67\n",
       "sitting               65\n",
       "sleeping              58\n",
       "hugging               57\n",
       "Name: label, dtype: int64"
      ]
     },
     "execution_count": 8,
     "metadata": {},
     "output_type": "execute_result"
    },
    {
     "data": {
      "text/plain": [
       "fighting              98\n",
       "running               82\n",
       "calling               82\n",
       "texting               79\n",
       "eating                79\n",
       "drinking              76\n",
       "cycling               76\n",
       "clapping              73\n",
       "listening_to_music    72\n",
       "using_laptop          68\n",
       "laughing              68\n",
       "dancing               67\n",
       "sitting               65\n",
       "sleeping              58\n",
       "hugging               57\n",
       "Name: label, dtype: int64"
      ]
     },
     "execution_count": 8,
     "metadata": {},
     "output_type": "execute_result"
    }
   ],
   "source": [
    "test_csv.label.value_counts()"
   ]
  },
  {
   "cell_type": "code",
   "execution_count": 9,
   "id": "66a76d7e",
   "metadata": {
    "id": "66a76d7e"
   },
   "outputs": [],
   "source": [
    "\n",
    "\n",
    "class CustomImageDataset(Dataset):\n",
    "    def __init__(self, annotations_csv, img_dir, class_labels,transform=None, target_transform=None):\n",
    "        self.img_labels = annotations_csv\n",
    "        self.img_dir = img_dir\n",
    "        self.transform = transform\n",
    "        self.target_transform = target_transform\n",
    "        self.class_labels = class_labels\n",
    "\n",
    "    def __len__(self):\n",
    "        return len(self.img_labels)\n",
    "        # return 100\n",
    "\n",
    "    def __getitem__(self, idx):\n",
    "        img_path = os.path.join(self.img_dir, self.img_labels.iloc[idx, 0])\n",
    "        image = Image.open(img_path)\n",
    "        label = self.img_labels.iloc[idx, 1]\n",
    "        label_cls = self.class_labels[label]\n",
    "        \n",
    "        if self.transform:\n",
    "            image = self.transform(image)\n",
    "        return image, label_cls\n"
   ]
  },
  {
   "cell_type": "code",
   "execution_count": 10,
   "id": "a9bb47cb",
   "metadata": {
    "id": "a9bb47cb"
   },
   "outputs": [],
   "source": [
    "import torchvision.transforms as T\n",
    "transform = T.Compose([T.Resize(255), \n",
    "       T.CenterCrop(224),  \n",
    "       T.RandomHorizontalFlip(),\n",
    "       T.ToTensor(), \n",
    "       T.Normalize([0.485, 0.456, 0.406], [0.229, 0.224, 0.225])])\n",
    "\n",
    "\n",
    "target_transform = T.Compose([T.ToTensor(),])\n"
   ]
  },
  {
   "cell_type": "code",
   "execution_count": 11,
   "id": "j6m8jn3FwfKT",
   "metadata": {
    "id": "j6m8jn3FwfKT"
   },
   "outputs": [],
   "source": [
    "\n",
    "train_set = CustomImageDataset(train_csv, r'data\\train', class_labels, transform=transform)\n",
    "\n",
    "train_dataloader = DataLoader(train_set, batch_size=512, shuffle=True)"
   ]
  },
  {
   "cell_type": "code",
   "execution_count": 12,
   "id": "d0WvZIeg3m42",
   "metadata": {
    "id": "d0WvZIeg3m42"
   },
   "outputs": [],
   "source": [
    "val_set = CustomImageDataset(val_csv, r'data\\train', class_labels, transform=transform)\n",
    "\n",
    "val_dataloader = DataLoader(val_set, batch_size=256, shuffle=True)"
   ]
  },
  {
   "cell_type": "code",
   "execution_count": 13,
   "id": "75df9d49",
   "metadata": {
    "id": "75df9d49"
   },
   "outputs": [],
   "source": [
    "test_set = CustomImageDataset(test_csv, r'data\\train', class_labels, transform=transform)\n",
    "\n",
    "test_dataloader = DataLoader(test_set, batch_size=256, shuffle=True)"
   ]
  },
  {
   "cell_type": "code",
   "execution_count": 14,
   "id": "31ee69de",
   "metadata": {
    "id": "31ee69de"
   },
   "outputs": [],
   "source": [
    "from torchvision.models import resnet18\n",
    "model = resnet18(pretrained=True)\n",
    "model.fc = torch.nn.Linear(in_features=512, out_features=num_classes, bias=True)"
   ]
  },
  {
   "cell_type": "code",
   "execution_count": 15,
   "id": "i9lWBuxSkDGQ",
   "metadata": {
    "colab": {
     "base_uri": "https://localhost:8080/"
    },
    "id": "i9lWBuxSkDGQ",
    "outputId": "88ed23af-cfe6-467d-d364-92da338a2a18"
   },
   "outputs": [
    {
     "data": {
      "text/plain": [
       "device(type='cuda', index=1)"
      ]
     },
     "execution_count": 15,
     "metadata": {},
     "output_type": "execute_result"
    },
    {
     "data": {
      "text/plain": [
       "device(type='cuda', index=1)"
      ]
     },
     "execution_count": 15,
     "metadata": {},
     "output_type": "execute_result"
    }
   ],
   "source": [
    "device = torch.device('cuda:1')\n",
    "device"
   ]
  },
  {
   "cell_type": "code",
   "execution_count": 16,
   "id": "YWXGwRSEk5Sc",
   "metadata": {
    "id": "YWXGwRSEk5Sc"
   },
   "outputs": [],
   "source": [
    "model = model.to(device)"
   ]
  },
  {
   "cell_type": "code",
   "execution_count": 17,
   "id": "268b58e9",
   "metadata": {
    "id": "268b58e9"
   },
   "outputs": [],
   "source": [
    "import torch.optim as optim\n",
    "from torch import nn\n",
    "\n",
    "criterion = nn.CrossEntropyLoss()\n",
    "optimizer = optim.SGD(model.parameters(), lr=0.001, momentum=0.9)"
   ]
  },
  {
   "cell_type": "code",
   "execution_count": null,
   "id": "b6650648",
   "metadata": {
    "colab": {
     "base_uri": "https://localhost:8080/",
     "height": 1000
    },
    "id": "b6650648",
    "outputId": "38c5685d-9c3b-44fa-beb0-979e2a12c03e"
   },
   "outputs": [
    {
     "name": "stdout",
     "output_type": "stream",
     "text": [
      "Epoch: 1\n",
      "Train Loss: 2.647872556339611; Val Loss :2.3952138423919678\n",
      "Accuracy of the network on the 500 test images: 26 %\n",
      "Epoch: 1\n",
      "Train Loss: 2.647872556339611; Val Loss :2.3952138423919678\n",
      "Accuracy of the network on the 500 test images: 26 %\n",
      "Epoch: 2\n",
      "Train Loss: 2.195085883140564; Val Loss :1.962400197982788\n",
      "Accuracy of the network on the 500 test images: 45 %\n",
      "Epoch: 2\n",
      "Train Loss: 2.195085883140564; Val Loss :1.962400197982788\n",
      "Accuracy of the network on the 500 test images: 45 %\n"
     ]
    }
   ],
   "source": [
    "train_loss_history = []\n",
    "val_loss_history = []\n",
    "best_val_loss = 10*5\n",
    "for epoch in range(100):  # loop over the dataset multiple times\n",
    "\n",
    "    train_loss = 0\n",
    "    totall = 0\n",
    "    correct = 0\n",
    "    model.train()\n",
    "    for i, data in enumerate(train_dataloader, 0):\n",
    "        inputs, labels = data\n",
    "        inputs = inputs.to(device)\n",
    "        labels = labels.to(device)\n",
    "        optimizer.zero_grad()\n",
    "\n",
    "        outputs = model(inputs)\n",
    "        loss = criterion(outputs, labels)\n",
    "        loss.backward()\n",
    "        optimizer.step()\n",
    "\n",
    "\n",
    "        train_loss += loss.item()\n",
    "    train_loss = train_loss / len(train_dataloader)\n",
    "    train_loss_history.append(train_loss)\n",
    "\n",
    "    model.eval()\n",
    "    val_loss = 0\n",
    "    total = 0 \n",
    "    correct = 0\n",
    "    for i, data in enumerate(val_dataloader, 0):\n",
    "        inputs, labels = data\n",
    "        inputs = inputs.to(device)\n",
    "        labels = labels.to(device)\n",
    "        outputs = model(inputs)\n",
    "        loss = criterion(outputs, labels)\n",
    "        val_loss += loss.item()\n",
    "\n",
    "        _, predicted = torch.max(outputs.data, 1)\n",
    "        total += labels.size(0)\n",
    "        correct += (predicted == labels).sum().item()\n",
    "    val_loss = val_loss / len(val_dataloader)\n",
    "    val_loss_history.append(val_loss)\n",
    "    if best_val_loss > val_loss:\n",
    "        PATH = 'models\\\\best_val_loss.pth'\n",
    "        torch.save(model.state_dict(), PATH)\n",
    "        best_val_loss = val_loss\n",
    "    print(f'Epoch: {epoch+1}')\n",
    "    print(f'Train Loss: {train_loss}; Val Loss :{val_loss}')\n",
    "    \n",
    "    print(f'Accuracy of the network on the {len(val_set)} test images: {100 * correct // total} %')\n",
    "\n",
    "print('Finished Training')\n"
   ]
  },
  {
   "cell_type": "code",
   "execution_count": null,
   "id": "c9SETKQHv5AS",
   "metadata": {
    "colab": {
     "base_uri": "https://localhost:8080/"
    },
    "id": "c9SETKQHv5AS",
    "outputId": "317ffaac-0f21-493a-d5a7-83636e75a175"
   },
   "outputs": [],
   "source": [
    "PATH = 'models\\\\best_val_loss.pth'\n",
    "model.load_state_dict(torch.load(PATH))\n",
    "model.eval()"
   ]
  },
  {
   "cell_type": "code",
   "execution_count": null,
   "id": "623275fa",
   "metadata": {
    "colab": {
     "base_uri": "https://localhost:8080/"
    },
    "id": "623275fa",
    "outputId": "9e1bb9a9-cb97-439c-f0ad-0322155e95fe"
   },
   "outputs": [],
   "source": [
    "import torch\n",
    "model.eval()\n",
    "total = 0\n",
    "correct = 0\n",
    "for data in test_dataloader:\n",
    "    images, labels = data\n",
    "    images = images.to(device)\n",
    "    labels = labels.to(device)\n",
    "    outputs = model(images)\n",
    "    _, predicted = torch.max(outputs.data, 1)\n",
    "    total += labels.size(0)\n",
    "    correct += (predicted == labels).sum().item()\n",
    "print(f'Accuracy of the network on the {len(test_set)} test images: {100 * correct // total} %')\n"
   ]
  },
  {
   "cell_type": "code",
   "execution_count": null,
   "id": "awya50iH6atz",
   "metadata": {
    "id": "awya50iH6atz"
   },
   "outputs": [],
   "source": []
  },
  {
   "cell_type": "code",
   "execution_count": null,
   "id": "4ddf67d2",
   "metadata": {
    "id": "4ddf67d2"
   },
   "outputs": [],
   "source": []
  },
  {
   "cell_type": "code",
   "execution_count": null,
   "id": "d26279c2",
   "metadata": {
    "id": "d26279c2"
   },
   "outputs": [],
   "source": []
  },
  {
   "cell_type": "code",
   "execution_count": null,
   "id": "4a52478b",
   "metadata": {
    "id": "4a52478b"
   },
   "outputs": [],
   "source": []
  },
  {
   "cell_type": "code",
   "execution_count": null,
   "id": "cd50ebf2",
   "metadata": {
    "id": "cd50ebf2"
   },
   "outputs": [],
   "source": []
  }
 ],
 "metadata": {
  "accelerator": "GPU",
  "colab": {
   "name": "train.ipynb",
   "provenance": []
  },
  "gpuClass": "standard",
  "kernelspec": {
   "display_name": "dl_train",
   "language": "python",
   "name": "dl_train"
  },
  "language_info": {
   "codemirror_mode": {
    "name": "ipython",
    "version": 3
   },
   "file_extension": ".py",
   "mimetype": "text/x-python",
   "name": "python",
   "nbconvert_exporter": "python",
   "pygments_lexer": "ipython3",
   "version": "3.8.13"
  }
 },
 "nbformat": 4,
 "nbformat_minor": 5
}
